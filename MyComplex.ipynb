{
  "nbformat": 4,
  "nbformat_minor": 0,
  "metadata": {
    "colab": {
      "name": "Untitled4.ipynb",
      "provenance": [],
      "authorship_tag": "ABX9TyOUuv1xUQuAM3/lrE8J58Wd",
      "include_colab_link": true
    },
    "kernelspec": {
      "name": "python3",
      "display_name": "Python 3"
    },
    "language_info": {
      "name": "python"
    }
  },
  "cells": [
    {
      "cell_type": "markdown",
      "metadata": {
        "id": "view-in-github",
        "colab_type": "text"
      },
      "source": [
        "<a href=\"https://colab.research.google.com/github/KshitijGoyal21/P346/blob/main/MyComplex.ipynb\" target=\"_parent\"><img src=\"https://colab.research.google.com/assets/colab-badge.svg\" alt=\"Open In Colab\"/></a>"
      ]
    },
    {
      "cell_type": "code",
      "execution_count": 1,
      "metadata": {
        "colab": {
          "base_uri": "https://localhost:8080/"
        },
        "id": "WKY78f3pUziJ",
        "outputId": "6ff0b0db-21c8-4f06-b040-bb423046d03f"
      },
      "outputs": [
        {
          "output_type": "stream",
          "name": "stdout",
          "text": [
            "Enter real part of 1st input3\n",
            "Enter imaginary part of 1st input-2\n",
            "Enter real part of 2nd input1\n",
            "Enter imaginary part of 2nd input2\n",
            "Sum is 4 + 0 i\n",
            "Product is 7 + 4 i\n",
            "Modulus of 1st input is 3.605551275463989\n",
            "Modulus of 2nd input is 2.23606797749979\n"
          ]
        }
      ],
      "source": [
        "class MyComplex:\n",
        " def Complex():\n",
        "    #Taking input\n",
        "    a_r=int(input(\"Enter real part of 1st input\")) # taking input\n",
        "    a_i=int(input(\"Enter imaginary part of 1st input\"))\n",
        "    b_r=int(input(\"Enter real part of 2nd input\"))\n",
        "    b_i=int(input(\"Enter imaginary part of 2nd input\"))\n",
        "    print(\"Sum is\",a_r+b_r,\"+\",a_i+b_i,\"i\")            #printing sum\n",
        "    c_r=a_r*b_r-1*(a_i*b_i)\n",
        "    c_i=a_r*b_i+b_r*a_i\n",
        "    print(\"Product is\",c_r,\"+\",c_i,\"i\")                #printing product\n",
        "    print(\"Modulus of 1st input is\",(a_r**2+a_i**2)**.5)     #printing modulus\n",
        "    print(\"Modulus of 2nd input is\",(b_r**2+b_i**2)**.5)     #printing modulus\n",
        " Complex()"
      ]
    }
  ]
}