{
  "nbformat": 4,
  "nbformat_minor": 0,
  "metadata": {
    "colab": {
      "name": "Untitled4.ipynb",
      "provenance": [],
      "authorship_tag": "ABX9TyNKB4hNDpxeF3YGrH7rp7Lu",
      "include_colab_link": true
    },
    "kernelspec": {
      "name": "python3",
      "display_name": "Python 3"
    },
    "language_info": {
      "name": "python"
    }
  },
  "cells": [
    {
      "cell_type": "markdown",
      "metadata": {
        "id": "view-in-github",
        "colab_type": "text"
      },
      "source": [
        "<a href=\"https://colab.research.google.com/github/KshitijGoyal21/P346/blob/main/Matrix_multiply.ipynb\" target=\"_parent\"><img src=\"https://colab.research.google.com/assets/colab-badge.svg\" alt=\"Open In Colab\"/></a>"
      ]
    },
    {
      "cell_type": "code",
      "execution_count": 5,
      "metadata": {
        "colab": {
          "base_uri": "https://localhost:8080/"
        },
        "id": "WKY78f3pUziJ",
        "outputId": "97c3b878-1a35-4b24-81f8-f4c0736842f8"
      },
      "outputs": [
        {
          "output_type": "stream",
          "name": "stdout",
          "text": [
            "[[-0.3 -3.5  5.2]\n",
            " [-4.5 -2.   4.5]\n",
            " [ 9.3  0.8 -7. ]]\n",
            "\n",
            "[[ 1.  ]\n",
            " [-5.75]\n",
            " [-9.  ]]\n",
            "\n",
            "[[-3.5]]\n"
          ]
        }
      ],
      "source": [
        "import sys\n",
        "import numpy as np\n",
        "def mat_mult(n,m):\n",
        "    q =len(n)\n",
        "    w =len(n[0])\n",
        "    r = len(m)\n",
        "    c = len(m[0])\n",
        "    if(w!=r):\n",
        "        print(\"Multiplication not possible\") #Condition for valid multiplication\n",
        "        sys.exit(0)\n",
        "    x=np.empty([q, c])\n",
        "    sum=0\n",
        "    for k in range(0,q):\n",
        "\n",
        "      for i in range(0,c):\n",
        "          for j in range(0,r):\n",
        "            sum=sum+(n[k][j]*m[j][i]) #Multiplication\n",
        "          x[k][i]=sum\n",
        "          sum=0 #Reinitializing\n",
        "    print(x)\n",
        "n=[[2,-3,1.4],[2.5,1,-2],[-0.8,0,3.1]]\n",
        "m=[[0,-1,1],[1.5,0.5,-2],[3,0,-2]]# Change Input in this line\n",
        "mat_mult(n,m)\n",
        "print()\n",
        "n2=[[0,-1,1],[1.5,0.5,-2],[3,0,-2]]\n",
        "m2=[[-2],[0.5],[1.5]]\n",
        "mat_mult(n2,m2)\n",
        "print()\n",
        "n1=[[1,0,-1]]\n",
        "m1=[[-2],[0.5],[1.5]]\n",
        "mat_mult(n1,m1)\n",
        "#Hardwiring input"
      ]
    }
  ]
}