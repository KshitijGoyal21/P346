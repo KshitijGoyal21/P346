{
  "nbformat": 4,
  "nbformat_minor": 0,
  "metadata": {
    "colab": {
      "name": "Untitled4.ipynb",
      "provenance": [],
      "authorship_tag": "ABX9TyP8pWpaDgPjbCgFGUstuOYG",
      "include_colab_link": true
    },
    "kernelspec": {
      "name": "python3",
      "display_name": "Python 3"
    },
    "language_info": {
      "name": "python"
    }
  },
  "cells": [
    {
      "cell_type": "markdown",
      "metadata": {
        "id": "view-in-github",
        "colab_type": "text"
      },
      "source": [
        "<a href=\"https://colab.research.google.com/github/KshitijGoyal21/P346/blob/main/sum_series.ipynb\" target=\"_parent\"><img src=\"https://colab.research.google.com/assets/colab-badge.svg\" alt=\"Open In Colab\"/></a>"
      ]
    },
    {
      "cell_type": "code",
      "execution_count": 6,
      "metadata": {
        "colab": {
          "base_uri": "https://localhost:8080/",
          "height": 282
        },
        "id": "WKY78f3pUziJ",
        "outputId": "40579b1e-0976-4303-dfb7-e95567f85757"
      },
      "outputs": [
        {
          "output_type": "stream",
          "name": "stdout",
          "text": [
            "Sum is  0.3333740234375\n"
          ]
        },
        {
          "output_type": "display_data",
          "data": {
            "text/plain": [
              "<Figure size 432x288 with 1 Axes>"
            ],
            "image/png": "[encoded data removed]"
          },
          "metadata": {
            "needs_background": "light"
          }
        }
      ],
      "source": [
        "import matplotlib.pyplot as plot\n",
        "def sum_series():\n",
        "    sum=0\n",
        "    a=[]\n",
        "    n=list(range(1,14))\n",
        "    for i in range(1,14):\n",
        "         sum=sum+((-1)**(i+1))/(2**i)\n",
        "         a.append(sum)\n",
        "    print(\"Sum is \",sum)\n",
        "    plot.plot(n,a)\n",
        "    plot.show() #showing plot\n",
        "sum_series()"
      ]
    }
  ]
}