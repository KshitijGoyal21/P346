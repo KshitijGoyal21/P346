{
  "nbformat": 4,
  "nbformat_minor": 0,
  "metadata": {
    "colab": {
      "name": "Untitled4.ipynb",
      "provenance": [],
      "authorship_tag": "ABX9TyNkr2YNXnzVYjcmncQvcnVM",
      "include_colab_link": true
    },
    "kernelspec": {
      "name": "python3",
      "display_name": "Python 3"
    },
    "language_info": {
      "name": "python"
    }
  },
  "cells": [
    {
      "cell_type": "markdown",
      "metadata": {
        "id": "view-in-github",
        "colab_type": "text"
      },
      "source": [
        "<a href=\"https://colab.research.google.com/github/KshitijGoyal21/P346/blob/main/ap_gp_hp.ipynb\" target=\"_parent\"><img src=\"https://colab.research.google.com/assets/colab-badge.svg\" alt=\"Open In Colab\"/></a>"
      ]
    },
    {
      "cell_type": "code",
      "execution_count": 3,
      "metadata": {
        "colab": {
          "base_uri": "https://localhost:8080/"
        },
        "id": "WKY78f3pUziJ",
        "outputId": "77c494e5-ec27-43d7-e701-e033679d117b"
      },
      "outputs": [
        {
          "output_type": "stream",
          "name": "stdout",
          "text": [
            "Enter 1st term1\n",
            "Enter number of terms5\n",
            "Sum of ap  20.0\n",
            "Sum of gp  1.9375\n",
            "Sum of hp  1.9746753246753246\n"
          ]
        }
      ],
      "source": [
        "\n",
        "def ap_gp_hp():\n",
        "    a = int(input(\"Enter 1st term\"))\n",
        "    n = int(input(\"Enter number of terms\"))\n",
        "    sum_ap=0\n",
        "    ap=a\n",
        "    sum_gp=0\n",
        "    gp=a\n",
        "    sum_hp=0\n",
        "    hp=a\n",
        "    for i in range(1,n+1):# calculating sum\n",
        "         sum_ap=sum_ap+ap\n",
        "         ap=ap+1.5\n",
        "         sum_gp=sum_gp+gp\n",
        "         gp=gp*0.5\n",
        "         sum_hp=sum_hp+hp\n",
        "         hp=1/(a+1.5*i)\n",
        "    print(\"Sum of ap \",sum_ap)\n",
        "    print(\"Sum of gp \", sum_gp)\n",
        "    print(\"Sum of hp \", sum_hp)\n",
        "ap_gp_hp()"
      ]
    }
  ]
}