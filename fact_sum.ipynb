{
  "nbformat": 4,
  "nbformat_minor": 0,
  "metadata": {
    "colab": {
      "name": "Untitled4.ipynb",
      "provenance": [],
      "authorship_tag": "ABX9TyN4xqoRSFZFE2mnqMjUHEfU",
      "include_colab_link": true
    },
    "kernelspec": {
      "name": "python3",
      "display_name": "Python 3"
    },
    "language_info": {
      "name": "python"
    }
  },
  "cells": [
    {
      "cell_type": "markdown",
      "metadata": {
        "id": "view-in-github",
        "colab_type": "text"
      },
      "source": [
        "<a href=\"https://colab.research.google.com/github/KshitijGoyal21/P346/blob/main/fact_sum.ipynb\" target=\"_parent\"><img src=\"https://colab.research.google.com/assets/colab-badge.svg\" alt=\"Open In Colab\"/></a>"
      ]
    },
    {
      "cell_type": "code",
      "execution_count": 2,
      "metadata": {
        "colab": {
          "base_uri": "https://localhost:8080/"
        },
        "id": "WKY78f3pUziJ",
        "outputId": "b799aa72-b395-4160-8270-0bf78b9a4ab6"
      },
      "outputs": [
        {
          "output_type": "stream",
          "name": "stdout",
          "text": [
            "Sum is  9\n",
            "Factorial is  120\n"
          ]
        }
      ],
      "source": [
        "def fact_sum(n):\n",
        "    sum=0\n",
        "    fact=1\n",
        "    for i in range(1,n+1):\n",
        "        if i%2!=0:\n",
        "         sum=sum+i\n",
        "        fact=fact*i #calculating factorial\n",
        "    print(\"Sum is \",sum)\n",
        "    print(\"Factorial is \",fact)\n",
        "fact_sum(5)# Change Input in this line"
      ]
    }
  ]
}